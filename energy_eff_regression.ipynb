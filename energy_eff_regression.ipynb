{
  "nbformat": 4,
  "nbformat_minor": 0,
  "metadata": {
    "colab": {
      "name": "energy_eff_regression.ipynb",
      "provenance": []
    },
    "kernelspec": {
      "name": "python3",
      "display_name": "Python 3"
    },
    "language_info": {
      "name": "python"
    }
  },
  "cells": [
    {
      "cell_type": "code",
      "metadata": {
        "id": "9yrKjyNu8khI"
      },
      "source": [
        "url=\"https://archive.ics.uci.edu/ml/machine-learning-databases/00242/ENB2012_data.xlsx\""
      ],
      "execution_count": 7,
      "outputs": []
    },
    {
      "cell_type": "code",
      "metadata": {
        "id": "q3gjqzGK9rWK"
      },
      "source": [
        "import pandas as pd\n",
        "dataset=pd.read_excel(url)"
      ],
      "execution_count": 8,
      "outputs": []
    },
    {
      "cell_type": "code",
      "metadata": {
        "colab": {
          "base_uri": "https://localhost:8080/",
          "height": 412
        },
        "id": "vVVixu2TDu8W",
        "outputId": "316201a0-d773-4989-9751-3fed0efd6e9e"
      },
      "source": [
        "dataset"
      ],
      "execution_count": 9,
      "outputs": [
        {
          "output_type": "execute_result",
          "data": {
            "text/html": [
              "<div>\n",
              "<style scoped>\n",
              "    .dataframe tbody tr th:only-of-type {\n",
              "        vertical-align: middle;\n",
              "    }\n",
              "\n",
              "    .dataframe tbody tr th {\n",
              "        vertical-align: top;\n",
              "    }\n",
              "\n",
              "    .dataframe thead th {\n",
              "        text-align: right;\n",
              "    }\n",
              "</style>\n",
              "<table border=\"1\" class=\"dataframe\">\n",
              "  <thead>\n",
              "    <tr style=\"text-align: right;\">\n",
              "      <th></th>\n",
              "      <th>X1</th>\n",
              "      <th>X2</th>\n",
              "      <th>X3</th>\n",
              "      <th>X4</th>\n",
              "      <th>X5</th>\n",
              "      <th>X6</th>\n",
              "      <th>X7</th>\n",
              "      <th>X8</th>\n",
              "      <th>Y1</th>\n",
              "      <th>Y2</th>\n",
              "    </tr>\n",
              "  </thead>\n",
              "  <tbody>\n",
              "    <tr>\n",
              "      <th>0</th>\n",
              "      <td>0.98</td>\n",
              "      <td>514.5</td>\n",
              "      <td>294.0</td>\n",
              "      <td>110.25</td>\n",
              "      <td>7.0</td>\n",
              "      <td>2</td>\n",
              "      <td>0.0</td>\n",
              "      <td>0</td>\n",
              "      <td>15.55</td>\n",
              "      <td>21.33</td>\n",
              "    </tr>\n",
              "    <tr>\n",
              "      <th>1</th>\n",
              "      <td>0.98</td>\n",
              "      <td>514.5</td>\n",
              "      <td>294.0</td>\n",
              "      <td>110.25</td>\n",
              "      <td>7.0</td>\n",
              "      <td>3</td>\n",
              "      <td>0.0</td>\n",
              "      <td>0</td>\n",
              "      <td>15.55</td>\n",
              "      <td>21.33</td>\n",
              "    </tr>\n",
              "    <tr>\n",
              "      <th>2</th>\n",
              "      <td>0.98</td>\n",
              "      <td>514.5</td>\n",
              "      <td>294.0</td>\n",
              "      <td>110.25</td>\n",
              "      <td>7.0</td>\n",
              "      <td>4</td>\n",
              "      <td>0.0</td>\n",
              "      <td>0</td>\n",
              "      <td>15.55</td>\n",
              "      <td>21.33</td>\n",
              "    </tr>\n",
              "    <tr>\n",
              "      <th>3</th>\n",
              "      <td>0.98</td>\n",
              "      <td>514.5</td>\n",
              "      <td>294.0</td>\n",
              "      <td>110.25</td>\n",
              "      <td>7.0</td>\n",
              "      <td>5</td>\n",
              "      <td>0.0</td>\n",
              "      <td>0</td>\n",
              "      <td>15.55</td>\n",
              "      <td>21.33</td>\n",
              "    </tr>\n",
              "    <tr>\n",
              "      <th>4</th>\n",
              "      <td>0.90</td>\n",
              "      <td>563.5</td>\n",
              "      <td>318.5</td>\n",
              "      <td>122.50</td>\n",
              "      <td>7.0</td>\n",
              "      <td>2</td>\n",
              "      <td>0.0</td>\n",
              "      <td>0</td>\n",
              "      <td>20.84</td>\n",
              "      <td>28.28</td>\n",
              "    </tr>\n",
              "    <tr>\n",
              "      <th>...</th>\n",
              "      <td>...</td>\n",
              "      <td>...</td>\n",
              "      <td>...</td>\n",
              "      <td>...</td>\n",
              "      <td>...</td>\n",
              "      <td>...</td>\n",
              "      <td>...</td>\n",
              "      <td>...</td>\n",
              "      <td>...</td>\n",
              "      <td>...</td>\n",
              "    </tr>\n",
              "    <tr>\n",
              "      <th>763</th>\n",
              "      <td>0.64</td>\n",
              "      <td>784.0</td>\n",
              "      <td>343.0</td>\n",
              "      <td>220.50</td>\n",
              "      <td>3.5</td>\n",
              "      <td>5</td>\n",
              "      <td>0.4</td>\n",
              "      <td>5</td>\n",
              "      <td>17.88</td>\n",
              "      <td>21.40</td>\n",
              "    </tr>\n",
              "    <tr>\n",
              "      <th>764</th>\n",
              "      <td>0.62</td>\n",
              "      <td>808.5</td>\n",
              "      <td>367.5</td>\n",
              "      <td>220.50</td>\n",
              "      <td>3.5</td>\n",
              "      <td>2</td>\n",
              "      <td>0.4</td>\n",
              "      <td>5</td>\n",
              "      <td>16.54</td>\n",
              "      <td>16.88</td>\n",
              "    </tr>\n",
              "    <tr>\n",
              "      <th>765</th>\n",
              "      <td>0.62</td>\n",
              "      <td>808.5</td>\n",
              "      <td>367.5</td>\n",
              "      <td>220.50</td>\n",
              "      <td>3.5</td>\n",
              "      <td>3</td>\n",
              "      <td>0.4</td>\n",
              "      <td>5</td>\n",
              "      <td>16.44</td>\n",
              "      <td>17.11</td>\n",
              "    </tr>\n",
              "    <tr>\n",
              "      <th>766</th>\n",
              "      <td>0.62</td>\n",
              "      <td>808.5</td>\n",
              "      <td>367.5</td>\n",
              "      <td>220.50</td>\n",
              "      <td>3.5</td>\n",
              "      <td>4</td>\n",
              "      <td>0.4</td>\n",
              "      <td>5</td>\n",
              "      <td>16.48</td>\n",
              "      <td>16.61</td>\n",
              "    </tr>\n",
              "    <tr>\n",
              "      <th>767</th>\n",
              "      <td>0.62</td>\n",
              "      <td>808.5</td>\n",
              "      <td>367.5</td>\n",
              "      <td>220.50</td>\n",
              "      <td>3.5</td>\n",
              "      <td>5</td>\n",
              "      <td>0.4</td>\n",
              "      <td>5</td>\n",
              "      <td>16.64</td>\n",
              "      <td>16.03</td>\n",
              "    </tr>\n",
              "  </tbody>\n",
              "</table>\n",
              "<p>768 rows × 10 columns</p>\n",
              "</div>"
            ],
            "text/plain": [
              "       X1     X2     X3      X4   X5  X6   X7  X8     Y1     Y2\n",
              "0    0.98  514.5  294.0  110.25  7.0   2  0.0   0  15.55  21.33\n",
              "1    0.98  514.5  294.0  110.25  7.0   3  0.0   0  15.55  21.33\n",
              "2    0.98  514.5  294.0  110.25  7.0   4  0.0   0  15.55  21.33\n",
              "3    0.98  514.5  294.0  110.25  7.0   5  0.0   0  15.55  21.33\n",
              "4    0.90  563.5  318.5  122.50  7.0   2  0.0   0  20.84  28.28\n",
              "..    ...    ...    ...     ...  ...  ..  ...  ..    ...    ...\n",
              "763  0.64  784.0  343.0  220.50  3.5   5  0.4   5  17.88  21.40\n",
              "764  0.62  808.5  367.5  220.50  3.5   2  0.4   5  16.54  16.88\n",
              "765  0.62  808.5  367.5  220.50  3.5   3  0.4   5  16.44  17.11\n",
              "766  0.62  808.5  367.5  220.50  3.5   4  0.4   5  16.48  16.61\n",
              "767  0.62  808.5  367.5  220.50  3.5   5  0.4   5  16.64  16.03\n",
              "\n",
              "[768 rows x 10 columns]"
            ]
          },
          "metadata": {
            "tags": []
          },
          "execution_count": 9
        }
      ]
    },
    {
      "cell_type": "code",
      "metadata": {
        "id": "fO1AT-SpDwJB"
      },
      "source": [
        "dataset.to_csv(\"data.csv\",encoding='utf-8')"
      ],
      "execution_count": 22,
      "outputs": []
    },
    {
      "cell_type": "code",
      "metadata": {
        "id": "VTwgjENvEXye"
      },
      "source": [
        "df=pd.read_csv(\"./data.csv\")"
      ],
      "execution_count": 25,
      "outputs": []
    },
    {
      "cell_type": "code",
      "metadata": {
        "colab": {
          "base_uri": "https://localhost:8080/",
          "height": 412
        },
        "id": "mgvfQabFFyM4",
        "outputId": "86c80ce4-f952-411c-c006-6368116a4258"
      },
      "source": [
        "df"
      ],
      "execution_count": 26,
      "outputs": [
        {
          "output_type": "execute_result",
          "data": {
            "text/html": [
              "<div>\n",
              "<style scoped>\n",
              "    .dataframe tbody tr th:only-of-type {\n",
              "        vertical-align: middle;\n",
              "    }\n",
              "\n",
              "    .dataframe tbody tr th {\n",
              "        vertical-align: top;\n",
              "    }\n",
              "\n",
              "    .dataframe thead th {\n",
              "        text-align: right;\n",
              "    }\n",
              "</style>\n",
              "<table border=\"1\" class=\"dataframe\">\n",
              "  <thead>\n",
              "    <tr style=\"text-align: right;\">\n",
              "      <th></th>\n",
              "      <th>Unnamed: 0</th>\n",
              "      <th>X1</th>\n",
              "      <th>X2</th>\n",
              "      <th>X3</th>\n",
              "      <th>X4</th>\n",
              "      <th>X5</th>\n",
              "      <th>X6</th>\n",
              "      <th>X7</th>\n",
              "      <th>X8</th>\n",
              "      <th>Y1</th>\n",
              "      <th>Y2</th>\n",
              "    </tr>\n",
              "  </thead>\n",
              "  <tbody>\n",
              "    <tr>\n",
              "      <th>0</th>\n",
              "      <td>0</td>\n",
              "      <td>0.98</td>\n",
              "      <td>514.5</td>\n",
              "      <td>294.0</td>\n",
              "      <td>110.25</td>\n",
              "      <td>7.0</td>\n",
              "      <td>2</td>\n",
              "      <td>0.0</td>\n",
              "      <td>0</td>\n",
              "      <td>15.55</td>\n",
              "      <td>21.33</td>\n",
              "    </tr>\n",
              "    <tr>\n",
              "      <th>1</th>\n",
              "      <td>1</td>\n",
              "      <td>0.98</td>\n",
              "      <td>514.5</td>\n",
              "      <td>294.0</td>\n",
              "      <td>110.25</td>\n",
              "      <td>7.0</td>\n",
              "      <td>3</td>\n",
              "      <td>0.0</td>\n",
              "      <td>0</td>\n",
              "      <td>15.55</td>\n",
              "      <td>21.33</td>\n",
              "    </tr>\n",
              "    <tr>\n",
              "      <th>2</th>\n",
              "      <td>2</td>\n",
              "      <td>0.98</td>\n",
              "      <td>514.5</td>\n",
              "      <td>294.0</td>\n",
              "      <td>110.25</td>\n",
              "      <td>7.0</td>\n",
              "      <td>4</td>\n",
              "      <td>0.0</td>\n",
              "      <td>0</td>\n",
              "      <td>15.55</td>\n",
              "      <td>21.33</td>\n",
              "    </tr>\n",
              "    <tr>\n",
              "      <th>3</th>\n",
              "      <td>3</td>\n",
              "      <td>0.98</td>\n",
              "      <td>514.5</td>\n",
              "      <td>294.0</td>\n",
              "      <td>110.25</td>\n",
              "      <td>7.0</td>\n",
              "      <td>5</td>\n",
              "      <td>0.0</td>\n",
              "      <td>0</td>\n",
              "      <td>15.55</td>\n",
              "      <td>21.33</td>\n",
              "    </tr>\n",
              "    <tr>\n",
              "      <th>4</th>\n",
              "      <td>4</td>\n",
              "      <td>0.90</td>\n",
              "      <td>563.5</td>\n",
              "      <td>318.5</td>\n",
              "      <td>122.50</td>\n",
              "      <td>7.0</td>\n",
              "      <td>2</td>\n",
              "      <td>0.0</td>\n",
              "      <td>0</td>\n",
              "      <td>20.84</td>\n",
              "      <td>28.28</td>\n",
              "    </tr>\n",
              "    <tr>\n",
              "      <th>...</th>\n",
              "      <td>...</td>\n",
              "      <td>...</td>\n",
              "      <td>...</td>\n",
              "      <td>...</td>\n",
              "      <td>...</td>\n",
              "      <td>...</td>\n",
              "      <td>...</td>\n",
              "      <td>...</td>\n",
              "      <td>...</td>\n",
              "      <td>...</td>\n",
              "      <td>...</td>\n",
              "    </tr>\n",
              "    <tr>\n",
              "      <th>763</th>\n",
              "      <td>763</td>\n",
              "      <td>0.64</td>\n",
              "      <td>784.0</td>\n",
              "      <td>343.0</td>\n",
              "      <td>220.50</td>\n",
              "      <td>3.5</td>\n",
              "      <td>5</td>\n",
              "      <td>0.4</td>\n",
              "      <td>5</td>\n",
              "      <td>17.88</td>\n",
              "      <td>21.40</td>\n",
              "    </tr>\n",
              "    <tr>\n",
              "      <th>764</th>\n",
              "      <td>764</td>\n",
              "      <td>0.62</td>\n",
              "      <td>808.5</td>\n",
              "      <td>367.5</td>\n",
              "      <td>220.50</td>\n",
              "      <td>3.5</td>\n",
              "      <td>2</td>\n",
              "      <td>0.4</td>\n",
              "      <td>5</td>\n",
              "      <td>16.54</td>\n",
              "      <td>16.88</td>\n",
              "    </tr>\n",
              "    <tr>\n",
              "      <th>765</th>\n",
              "      <td>765</td>\n",
              "      <td>0.62</td>\n",
              "      <td>808.5</td>\n",
              "      <td>367.5</td>\n",
              "      <td>220.50</td>\n",
              "      <td>3.5</td>\n",
              "      <td>3</td>\n",
              "      <td>0.4</td>\n",
              "      <td>5</td>\n",
              "      <td>16.44</td>\n",
              "      <td>17.11</td>\n",
              "    </tr>\n",
              "    <tr>\n",
              "      <th>766</th>\n",
              "      <td>766</td>\n",
              "      <td>0.62</td>\n",
              "      <td>808.5</td>\n",
              "      <td>367.5</td>\n",
              "      <td>220.50</td>\n",
              "      <td>3.5</td>\n",
              "      <td>4</td>\n",
              "      <td>0.4</td>\n",
              "      <td>5</td>\n",
              "      <td>16.48</td>\n",
              "      <td>16.61</td>\n",
              "    </tr>\n",
              "    <tr>\n",
              "      <th>767</th>\n",
              "      <td>767</td>\n",
              "      <td>0.62</td>\n",
              "      <td>808.5</td>\n",
              "      <td>367.5</td>\n",
              "      <td>220.50</td>\n",
              "      <td>3.5</td>\n",
              "      <td>5</td>\n",
              "      <td>0.4</td>\n",
              "      <td>5</td>\n",
              "      <td>16.64</td>\n",
              "      <td>16.03</td>\n",
              "    </tr>\n",
              "  </tbody>\n",
              "</table>\n",
              "<p>768 rows × 11 columns</p>\n",
              "</div>"
            ],
            "text/plain": [
              "     Unnamed: 0    X1     X2     X3      X4   X5  X6   X7  X8     Y1     Y2\n",
              "0             0  0.98  514.5  294.0  110.25  7.0   2  0.0   0  15.55  21.33\n",
              "1             1  0.98  514.5  294.0  110.25  7.0   3  0.0   0  15.55  21.33\n",
              "2             2  0.98  514.5  294.0  110.25  7.0   4  0.0   0  15.55  21.33\n",
              "3             3  0.98  514.5  294.0  110.25  7.0   5  0.0   0  15.55  21.33\n",
              "4             4  0.90  563.5  318.5  122.50  7.0   2  0.0   0  20.84  28.28\n",
              "..          ...   ...    ...    ...     ...  ...  ..  ...  ..    ...    ...\n",
              "763         763  0.64  784.0  343.0  220.50  3.5   5  0.4   5  17.88  21.40\n",
              "764         764  0.62  808.5  367.5  220.50  3.5   2  0.4   5  16.54  16.88\n",
              "765         765  0.62  808.5  367.5  220.50  3.5   3  0.4   5  16.44  17.11\n",
              "766         766  0.62  808.5  367.5  220.50  3.5   4  0.4   5  16.48  16.61\n",
              "767         767  0.62  808.5  367.5  220.50  3.5   5  0.4   5  16.64  16.03\n",
              "\n",
              "[768 rows x 11 columns]"
            ]
          },
          "metadata": {
            "tags": []
          },
          "execution_count": 26
        }
      ]
    },
    {
      "cell_type": "code",
      "metadata": {
        "colab": {
          "base_uri": "https://localhost:8080/"
        },
        "id": "FnCrVLgYFzGK",
        "outputId": "fdb3890b-9885-4aa8-9706-69db9cf65d32"
      },
      "source": [
        "df.isnull().sum()"
      ],
      "execution_count": 27,
      "outputs": [
        {
          "output_type": "execute_result",
          "data": {
            "text/plain": [
              "Unnamed: 0    0\n",
              "X1            0\n",
              "X2            0\n",
              "X3            0\n",
              "X4            0\n",
              "X5            0\n",
              "X6            0\n",
              "X7            0\n",
              "X8            0\n",
              "Y1            0\n",
              "Y2            0\n",
              "dtype: int64"
            ]
          },
          "metadata": {
            "tags": []
          },
          "execution_count": 27
        }
      ]
    },
    {
      "cell_type": "code",
      "metadata": {
        "colab": {
          "base_uri": "https://localhost:8080/"
        },
        "id": "mb_k6pjhF8aL",
        "outputId": "de2259de-2c84-4203-d364-30cf79b43886"
      },
      "source": [
        "df.info()"
      ],
      "execution_count": 28,
      "outputs": [
        {
          "output_type": "stream",
          "text": [
            "<class 'pandas.core.frame.DataFrame'>\n",
            "RangeIndex: 768 entries, 0 to 767\n",
            "Data columns (total 11 columns):\n",
            " #   Column      Non-Null Count  Dtype  \n",
            "---  ------      --------------  -----  \n",
            " 0   Unnamed: 0  768 non-null    int64  \n",
            " 1   X1          768 non-null    float64\n",
            " 2   X2          768 non-null    float64\n",
            " 3   X3          768 non-null    float64\n",
            " 4   X4          768 non-null    float64\n",
            " 5   X5          768 non-null    float64\n",
            " 6   X6          768 non-null    int64  \n",
            " 7   X7          768 non-null    float64\n",
            " 8   X8          768 non-null    int64  \n",
            " 9   Y1          768 non-null    float64\n",
            " 10  Y2          768 non-null    float64\n",
            "dtypes: float64(8), int64(3)\n",
            "memory usage: 66.1 KB\n"
          ],
          "name": "stdout"
        }
      ]
    },
    {
      "cell_type": "code",
      "metadata": {
        "colab": {
          "base_uri": "https://localhost:8080/",
          "height": 292
        },
        "id": "GvVCNYDtGBdx",
        "outputId": "b3aa277c-899c-4f3e-f433-586e9ce90c6a"
      },
      "source": [
        "df.describe()"
      ],
      "execution_count": 29,
      "outputs": [
        {
          "output_type": "execute_result",
          "data": {
            "text/html": [
              "<div>\n",
              "<style scoped>\n",
              "    .dataframe tbody tr th:only-of-type {\n",
              "        vertical-align: middle;\n",
              "    }\n",
              "\n",
              "    .dataframe tbody tr th {\n",
              "        vertical-align: top;\n",
              "    }\n",
              "\n",
              "    .dataframe thead th {\n",
              "        text-align: right;\n",
              "    }\n",
              "</style>\n",
              "<table border=\"1\" class=\"dataframe\">\n",
              "  <thead>\n",
              "    <tr style=\"text-align: right;\">\n",
              "      <th></th>\n",
              "      <th>Unnamed: 0</th>\n",
              "      <th>X1</th>\n",
              "      <th>X2</th>\n",
              "      <th>X3</th>\n",
              "      <th>X4</th>\n",
              "      <th>X5</th>\n",
              "      <th>X6</th>\n",
              "      <th>X7</th>\n",
              "      <th>X8</th>\n",
              "      <th>Y1</th>\n",
              "      <th>Y2</th>\n",
              "    </tr>\n",
              "  </thead>\n",
              "  <tbody>\n",
              "    <tr>\n",
              "      <th>count</th>\n",
              "      <td>768.000000</td>\n",
              "      <td>768.000000</td>\n",
              "      <td>768.000000</td>\n",
              "      <td>768.000000</td>\n",
              "      <td>768.000000</td>\n",
              "      <td>768.00000</td>\n",
              "      <td>768.000000</td>\n",
              "      <td>768.000000</td>\n",
              "      <td>768.00000</td>\n",
              "      <td>768.000000</td>\n",
              "      <td>768.000000</td>\n",
              "    </tr>\n",
              "    <tr>\n",
              "      <th>mean</th>\n",
              "      <td>383.500000</td>\n",
              "      <td>0.764167</td>\n",
              "      <td>671.708333</td>\n",
              "      <td>318.500000</td>\n",
              "      <td>176.604167</td>\n",
              "      <td>5.25000</td>\n",
              "      <td>3.500000</td>\n",
              "      <td>0.234375</td>\n",
              "      <td>2.81250</td>\n",
              "      <td>22.307195</td>\n",
              "      <td>24.587760</td>\n",
              "    </tr>\n",
              "    <tr>\n",
              "      <th>std</th>\n",
              "      <td>221.846794</td>\n",
              "      <td>0.105777</td>\n",
              "      <td>88.086116</td>\n",
              "      <td>43.626481</td>\n",
              "      <td>45.165950</td>\n",
              "      <td>1.75114</td>\n",
              "      <td>1.118763</td>\n",
              "      <td>0.133221</td>\n",
              "      <td>1.55096</td>\n",
              "      <td>10.090204</td>\n",
              "      <td>9.513306</td>\n",
              "    </tr>\n",
              "    <tr>\n",
              "      <th>min</th>\n",
              "      <td>0.000000</td>\n",
              "      <td>0.620000</td>\n",
              "      <td>514.500000</td>\n",
              "      <td>245.000000</td>\n",
              "      <td>110.250000</td>\n",
              "      <td>3.50000</td>\n",
              "      <td>2.000000</td>\n",
              "      <td>0.000000</td>\n",
              "      <td>0.00000</td>\n",
              "      <td>6.010000</td>\n",
              "      <td>10.900000</td>\n",
              "    </tr>\n",
              "    <tr>\n",
              "      <th>25%</th>\n",
              "      <td>191.750000</td>\n",
              "      <td>0.682500</td>\n",
              "      <td>606.375000</td>\n",
              "      <td>294.000000</td>\n",
              "      <td>140.875000</td>\n",
              "      <td>3.50000</td>\n",
              "      <td>2.750000</td>\n",
              "      <td>0.100000</td>\n",
              "      <td>1.75000</td>\n",
              "      <td>12.992500</td>\n",
              "      <td>15.620000</td>\n",
              "    </tr>\n",
              "    <tr>\n",
              "      <th>50%</th>\n",
              "      <td>383.500000</td>\n",
              "      <td>0.750000</td>\n",
              "      <td>673.750000</td>\n",
              "      <td>318.500000</td>\n",
              "      <td>183.750000</td>\n",
              "      <td>5.25000</td>\n",
              "      <td>3.500000</td>\n",
              "      <td>0.250000</td>\n",
              "      <td>3.00000</td>\n",
              "      <td>18.950000</td>\n",
              "      <td>22.080000</td>\n",
              "    </tr>\n",
              "    <tr>\n",
              "      <th>75%</th>\n",
              "      <td>575.250000</td>\n",
              "      <td>0.830000</td>\n",
              "      <td>741.125000</td>\n",
              "      <td>343.000000</td>\n",
              "      <td>220.500000</td>\n",
              "      <td>7.00000</td>\n",
              "      <td>4.250000</td>\n",
              "      <td>0.400000</td>\n",
              "      <td>4.00000</td>\n",
              "      <td>31.667500</td>\n",
              "      <td>33.132500</td>\n",
              "    </tr>\n",
              "    <tr>\n",
              "      <th>max</th>\n",
              "      <td>767.000000</td>\n",
              "      <td>0.980000</td>\n",
              "      <td>808.500000</td>\n",
              "      <td>416.500000</td>\n",
              "      <td>220.500000</td>\n",
              "      <td>7.00000</td>\n",
              "      <td>5.000000</td>\n",
              "      <td>0.400000</td>\n",
              "      <td>5.00000</td>\n",
              "      <td>43.100000</td>\n",
              "      <td>48.030000</td>\n",
              "    </tr>\n",
              "  </tbody>\n",
              "</table>\n",
              "</div>"
            ],
            "text/plain": [
              "       Unnamed: 0          X1          X2  ...         X8          Y1          Y2\n",
              "count  768.000000  768.000000  768.000000  ...  768.00000  768.000000  768.000000\n",
              "mean   383.500000    0.764167  671.708333  ...    2.81250   22.307195   24.587760\n",
              "std    221.846794    0.105777   88.086116  ...    1.55096   10.090204    9.513306\n",
              "min      0.000000    0.620000  514.500000  ...    0.00000    6.010000   10.900000\n",
              "25%    191.750000    0.682500  606.375000  ...    1.75000   12.992500   15.620000\n",
              "50%    383.500000    0.750000  673.750000  ...    3.00000   18.950000   22.080000\n",
              "75%    575.250000    0.830000  741.125000  ...    4.00000   31.667500   33.132500\n",
              "max    767.000000    0.980000  808.500000  ...    5.00000   43.100000   48.030000\n",
              "\n",
              "[8 rows x 11 columns]"
            ]
          },
          "metadata": {
            "tags": []
          },
          "execution_count": 29
        }
      ]
    },
    {
      "cell_type": "code",
      "metadata": {
        "id": "KHkXDyKGGD1v"
      },
      "source": [
        "tar1=df['Y1']\n",
        "tar2=df['Y2']\n",
        "data=df.drop(columns=['Y1','Y2'])"
      ],
      "execution_count": 43,
      "outputs": []
    },
    {
      "cell_type": "code",
      "metadata": {
        "colab": {
          "base_uri": "https://localhost:8080/"
        },
        "id": "v4CJpNSMGU57",
        "outputId": "2bd1e0ab-dbe0-4bac-ab60-bc3c6aae5a17"
      },
      "source": [
        "print(tar1,tar2,data)"
      ],
      "execution_count": 44,
      "outputs": [
        {
          "output_type": "stream",
          "text": [
            "0      15.55\n",
            "1      15.55\n",
            "2      15.55\n",
            "3      15.55\n",
            "4      20.84\n",
            "       ...  \n",
            "763    17.88\n",
            "764    16.54\n",
            "765    16.44\n",
            "766    16.48\n",
            "767    16.64\n",
            "Name: Y1, Length: 768, dtype: float64 0      21.33\n",
            "1      21.33\n",
            "2      21.33\n",
            "3      21.33\n",
            "4      28.28\n",
            "       ...  \n",
            "763    21.40\n",
            "764    16.88\n",
            "765    17.11\n",
            "766    16.61\n",
            "767    16.03\n",
            "Name: Y2, Length: 768, dtype: float64      Unnamed: 0    X1     X2     X3      X4   X5  X6   X7  X8\n",
            "0             0  0.98  514.5  294.0  110.25  7.0   2  0.0   0\n",
            "1             1  0.98  514.5  294.0  110.25  7.0   3  0.0   0\n",
            "2             2  0.98  514.5  294.0  110.25  7.0   4  0.0   0\n",
            "3             3  0.98  514.5  294.0  110.25  7.0   5  0.0   0\n",
            "4             4  0.90  563.5  318.5  122.50  7.0   2  0.0   0\n",
            "..          ...   ...    ...    ...     ...  ...  ..  ...  ..\n",
            "763         763  0.64  784.0  343.0  220.50  3.5   5  0.4   5\n",
            "764         764  0.62  808.5  367.5  220.50  3.5   2  0.4   5\n",
            "765         765  0.62  808.5  367.5  220.50  3.5   3  0.4   5\n",
            "766         766  0.62  808.5  367.5  220.50  3.5   4  0.4   5\n",
            "767         767  0.62  808.5  367.5  220.50  3.5   5  0.4   5\n",
            "\n",
            "[768 rows x 9 columns]\n"
          ],
          "name": "stdout"
        }
      ]
    },
    {
      "cell_type": "code",
      "metadata": {
        "id": "6DlvHp-HGXm5"
      },
      "source": [
        "from sklearn.preprocessing import StandardScaler\n",
        "sc=StandardScaler()"
      ],
      "execution_count": 33,
      "outputs": []
    },
    {
      "cell_type": "code",
      "metadata": {
        "id": "2t6uw-FIGkS0"
      },
      "source": [
        "data=sc.fit_transform(data)"
      ],
      "execution_count": 35,
      "outputs": []
    },
    {
      "cell_type": "code",
      "metadata": {
        "colab": {
          "base_uri": "https://localhost:8080/",
          "height": 412
        },
        "id": "CIoWZG_pGnAy",
        "outputId": "979a2a7c-a16b-49bf-9eec-0a510414599e"
      },
      "source": [
        "pd.DataFrame(data)"
      ],
      "execution_count": 37,
      "outputs": [
        {
          "output_type": "execute_result",
          "data": {
            "text/html": [
              "<div>\n",
              "<style scoped>\n",
              "    .dataframe tbody tr th:only-of-type {\n",
              "        vertical-align: middle;\n",
              "    }\n",
              "\n",
              "    .dataframe tbody tr th {\n",
              "        vertical-align: top;\n",
              "    }\n",
              "\n",
              "    .dataframe thead th {\n",
              "        text-align: right;\n",
              "    }\n",
              "</style>\n",
              "<table border=\"1\" class=\"dataframe\">\n",
              "  <thead>\n",
              "    <tr style=\"text-align: right;\">\n",
              "      <th></th>\n",
              "      <th>0</th>\n",
              "      <th>1</th>\n",
              "      <th>2</th>\n",
              "      <th>3</th>\n",
              "      <th>4</th>\n",
              "      <th>5</th>\n",
              "      <th>6</th>\n",
              "      <th>7</th>\n",
              "      <th>8</th>\n",
              "    </tr>\n",
              "  </thead>\n",
              "  <tbody>\n",
              "    <tr>\n",
              "      <th>0</th>\n",
              "      <td>-1.729797</td>\n",
              "      <td>2.041777</td>\n",
              "      <td>-1.785875</td>\n",
              "      <td>-0.561951</td>\n",
              "      <td>-1.470077</td>\n",
              "      <td>1.0</td>\n",
              "      <td>-1.341641</td>\n",
              "      <td>-1.760447</td>\n",
              "      <td>-1.814575</td>\n",
              "    </tr>\n",
              "    <tr>\n",
              "      <th>1</th>\n",
              "      <td>-1.725286</td>\n",
              "      <td>2.041777</td>\n",
              "      <td>-1.785875</td>\n",
              "      <td>-0.561951</td>\n",
              "      <td>-1.470077</td>\n",
              "      <td>1.0</td>\n",
              "      <td>-0.447214</td>\n",
              "      <td>-1.760447</td>\n",
              "      <td>-1.814575</td>\n",
              "    </tr>\n",
              "    <tr>\n",
              "      <th>2</th>\n",
              "      <td>-1.720776</td>\n",
              "      <td>2.041777</td>\n",
              "      <td>-1.785875</td>\n",
              "      <td>-0.561951</td>\n",
              "      <td>-1.470077</td>\n",
              "      <td>1.0</td>\n",
              "      <td>0.447214</td>\n",
              "      <td>-1.760447</td>\n",
              "      <td>-1.814575</td>\n",
              "    </tr>\n",
              "    <tr>\n",
              "      <th>3</th>\n",
              "      <td>-1.716265</td>\n",
              "      <td>2.041777</td>\n",
              "      <td>-1.785875</td>\n",
              "      <td>-0.561951</td>\n",
              "      <td>-1.470077</td>\n",
              "      <td>1.0</td>\n",
              "      <td>1.341641</td>\n",
              "      <td>-1.760447</td>\n",
              "      <td>-1.814575</td>\n",
              "    </tr>\n",
              "    <tr>\n",
              "      <th>4</th>\n",
              "      <td>-1.711755</td>\n",
              "      <td>1.284979</td>\n",
              "      <td>-1.229239</td>\n",
              "      <td>0.000000</td>\n",
              "      <td>-1.198678</td>\n",
              "      <td>1.0</td>\n",
              "      <td>-1.341641</td>\n",
              "      <td>-1.760447</td>\n",
              "      <td>-1.814575</td>\n",
              "    </tr>\n",
              "    <tr>\n",
              "      <th>...</th>\n",
              "      <td>...</td>\n",
              "      <td>...</td>\n",
              "      <td>...</td>\n",
              "      <td>...</td>\n",
              "      <td>...</td>\n",
              "      <td>...</td>\n",
              "      <td>...</td>\n",
              "      <td>...</td>\n",
              "      <td>...</td>\n",
              "    </tr>\n",
              "    <tr>\n",
              "      <th>763</th>\n",
              "      <td>1.711755</td>\n",
              "      <td>-1.174613</td>\n",
              "      <td>1.275625</td>\n",
              "      <td>0.561951</td>\n",
              "      <td>0.972512</td>\n",
              "      <td>-1.0</td>\n",
              "      <td>1.341641</td>\n",
              "      <td>1.244049</td>\n",
              "      <td>1.411336</td>\n",
              "    </tr>\n",
              "    <tr>\n",
              "      <th>764</th>\n",
              "      <td>1.716265</td>\n",
              "      <td>-1.363812</td>\n",
              "      <td>1.553943</td>\n",
              "      <td>1.123903</td>\n",
              "      <td>0.972512</td>\n",
              "      <td>-1.0</td>\n",
              "      <td>-1.341641</td>\n",
              "      <td>1.244049</td>\n",
              "      <td>1.411336</td>\n",
              "    </tr>\n",
              "    <tr>\n",
              "      <th>765</th>\n",
              "      <td>1.720776</td>\n",
              "      <td>-1.363812</td>\n",
              "      <td>1.553943</td>\n",
              "      <td>1.123903</td>\n",
              "      <td>0.972512</td>\n",
              "      <td>-1.0</td>\n",
              "      <td>-0.447214</td>\n",
              "      <td>1.244049</td>\n",
              "      <td>1.411336</td>\n",
              "    </tr>\n",
              "    <tr>\n",
              "      <th>766</th>\n",
              "      <td>1.725286</td>\n",
              "      <td>-1.363812</td>\n",
              "      <td>1.553943</td>\n",
              "      <td>1.123903</td>\n",
              "      <td>0.972512</td>\n",
              "      <td>-1.0</td>\n",
              "      <td>0.447214</td>\n",
              "      <td>1.244049</td>\n",
              "      <td>1.411336</td>\n",
              "    </tr>\n",
              "    <tr>\n",
              "      <th>767</th>\n",
              "      <td>1.729797</td>\n",
              "      <td>-1.363812</td>\n",
              "      <td>1.553943</td>\n",
              "      <td>1.123903</td>\n",
              "      <td>0.972512</td>\n",
              "      <td>-1.0</td>\n",
              "      <td>1.341641</td>\n",
              "      <td>1.244049</td>\n",
              "      <td>1.411336</td>\n",
              "    </tr>\n",
              "  </tbody>\n",
              "</table>\n",
              "<p>768 rows × 9 columns</p>\n",
              "</div>"
            ],
            "text/plain": [
              "            0         1         2         3  ...    5         6         7         8\n",
              "0   -1.729797  2.041777 -1.785875 -0.561951  ...  1.0 -1.341641 -1.760447 -1.814575\n",
              "1   -1.725286  2.041777 -1.785875 -0.561951  ...  1.0 -0.447214 -1.760447 -1.814575\n",
              "2   -1.720776  2.041777 -1.785875 -0.561951  ...  1.0  0.447214 -1.760447 -1.814575\n",
              "3   -1.716265  2.041777 -1.785875 -0.561951  ...  1.0  1.341641 -1.760447 -1.814575\n",
              "4   -1.711755  1.284979 -1.229239  0.000000  ...  1.0 -1.341641 -1.760447 -1.814575\n",
              "..        ...       ...       ...       ...  ...  ...       ...       ...       ...\n",
              "763  1.711755 -1.174613  1.275625  0.561951  ... -1.0  1.341641  1.244049  1.411336\n",
              "764  1.716265 -1.363812  1.553943  1.123903  ... -1.0 -1.341641  1.244049  1.411336\n",
              "765  1.720776 -1.363812  1.553943  1.123903  ... -1.0 -0.447214  1.244049  1.411336\n",
              "766  1.725286 -1.363812  1.553943  1.123903  ... -1.0  0.447214  1.244049  1.411336\n",
              "767  1.729797 -1.363812  1.553943  1.123903  ... -1.0  1.341641  1.244049  1.411336\n",
              "\n",
              "[768 rows x 9 columns]"
            ]
          },
          "metadata": {
            "tags": []
          },
          "execution_count": 37
        }
      ]
    },
    {
      "cell_type": "code",
      "metadata": {
        "id": "witFPWZhG2fv"
      },
      "source": [
        "#train test split\n",
        "from sklearn.model_selection import train_test_split\n",
        "x_train1,x_test1,y_train1,y_test1=train_test_split(data,tar1,test_size=0.3)\n",
        "x_train2,x_test2,y_train2,y_test2=train_test_split(data,tar2,test_size=0.3)"
      ],
      "execution_count": 45,
      "outputs": []
    },
    {
      "cell_type": "code",
      "metadata": {
        "colab": {
          "base_uri": "https://localhost:8080/"
        },
        "id": "GCGBEp4YH2kA",
        "outputId": "8a1613b8-7e24-4e66-8772-05338ffdae28"
      },
      "source": [
        "print(x_train1,x_train2)"
      ],
      "execution_count": 46,
      "outputs": [
        {
          "output_type": "stream",
          "text": [
            "     Unnamed: 0    X1     X2     X3      X4   X5  X6    X7  X8\n",
            "320         320  0.69  735.0  294.0  220.50  3.5   2  0.25   1\n",
            "277         277  0.66  759.5  318.5  220.50  3.5   3  0.10   5\n",
            "132         132  0.66  759.5  318.5  220.50  3.5   2  0.10   2\n",
            "631         631  0.90  563.5  318.5  122.50  7.0   5  0.40   3\n",
            "360         360  0.74  686.0  245.0  220.50  3.5   2  0.25   2\n",
            "..          ...   ...    ...    ...     ...  ...  ..   ...  ..\n",
            "37           37  0.66  759.5  318.5  220.50  3.5   3  0.00   0\n",
            "195         195  0.98  514.5  294.0  110.25  7.0   5  0.10   4\n",
            "484         484  0.90  563.5  318.5  122.50  7.0   2  0.25   5\n",
            "520         520  0.64  784.0  343.0  220.50  3.5   2  0.25   5\n",
            "222         222  0.71  710.5  269.5  220.50  3.5   4  0.10   4\n",
            "\n",
            "[537 rows x 9 columns]      Unnamed: 0    X1     X2     X3      X4   X5  X6    X7  X8\n",
            "142         142  0.62  808.5  367.5  220.50  3.5   4  0.10   2\n",
            "91           91  0.64  784.0  343.0  220.50  3.5   5  0.10   1\n",
            "760         760  0.64  784.0  343.0  220.50  3.5   2  0.40   5\n",
            "166         166  0.76  661.5  416.5  122.50  7.0   4  0.10   3\n",
            "554         554  0.74  686.0  245.0  220.50  3.5   4  0.40   1\n",
            "..          ...   ...    ...    ...     ...  ...  ..   ...  ..\n",
            "160         160  0.79  637.0  343.0  147.00  7.0   2  0.10   3\n",
            "681         681  0.86  588.0  294.0  147.00  7.0   3  0.40   4\n",
            "576         576  0.98  514.5  294.0  110.25  7.0   2  0.40   2\n",
            "39           39  0.66  759.5  318.5  220.50  3.5   5  0.00   0\n",
            "352         352  0.79  637.0  343.0  147.00  7.0   2  0.25   2\n",
            "\n",
            "[537 rows x 9 columns]\n"
          ],
          "name": "stdout"
        }
      ]
    },
    {
      "cell_type": "markdown",
      "metadata": {
        "id": "KzRXAew7LHLD"
      },
      "source": [
        "## Linear Regression"
      ]
    },
    {
      "cell_type": "code",
      "metadata": {
        "id": "YTbnQ9_AGpRt"
      },
      "source": [
        "from sklearn.linear_model import LinearRegression\n",
        "lr=LinearRegression()"
      ],
      "execution_count": 38,
      "outputs": []
    },
    {
      "cell_type": "code",
      "metadata": {
        "colab": {
          "base_uri": "https://localhost:8080/"
        },
        "id": "GD4CyqHAG1qG",
        "outputId": "fcd38e96-77db-4e13-90be-5a6d485063bc"
      },
      "source": [
        "#for Y1\n",
        "lr.fit(x_train1,y_train1)"
      ],
      "execution_count": 47,
      "outputs": [
        {
          "output_type": "execute_result",
          "data": {
            "text/plain": [
              "LinearRegression(copy_X=True, fit_intercept=True, n_jobs=None, normalize=False)"
            ]
          },
          "metadata": {
            "tags": []
          },
          "execution_count": 47
        }
      ]
    },
    {
      "cell_type": "code",
      "metadata": {
        "id": "fuQ1vDCNIBXW"
      },
      "source": [
        "from sklearn.metrics import r2_score,mean_squared_error"
      ],
      "execution_count": 48,
      "outputs": []
    },
    {
      "cell_type": "code",
      "metadata": {
        "colab": {
          "base_uri": "https://localhost:8080/"
        },
        "id": "ob4pUeEYIHq_",
        "outputId": "1bc96ff7-0397-444b-849b-91a00b05f989"
      },
      "source": [
        "print(r2_score(lr.predict(x_train1),y_train1))\n",
        "print(mean_squared_error(lr.predict(x_train1),y_train1))"
      ],
      "execution_count": 49,
      "outputs": [
        {
          "output_type": "stream",
          "text": [
            "0.9195995899296409\n",
            "7.634969295126441\n"
          ],
          "name": "stdout"
        }
      ]
    },
    {
      "cell_type": "code",
      "metadata": {
        "colab": {
          "base_uri": "https://localhost:8080/"
        },
        "id": "ekG32ECtIdlV",
        "outputId": "2a560be6-0afd-4a0f-d2a6-0455cbebacc3"
      },
      "source": [
        "#for y2\n",
        "lr.fit(x_train2,y_train2)"
      ],
      "execution_count": 50,
      "outputs": [
        {
          "output_type": "execute_result",
          "data": {
            "text/plain": [
              "LinearRegression(copy_X=True, fit_intercept=True, n_jobs=None, normalize=False)"
            ]
          },
          "metadata": {
            "tags": []
          },
          "execution_count": 50
        }
      ]
    },
    {
      "cell_type": "code",
      "metadata": {
        "colab": {
          "base_uri": "https://localhost:8080/"
        },
        "id": "NJVOSNZGIjkj",
        "outputId": "81e349c2-786c-49f6-c24a-3ca01474fbd0"
      },
      "source": [
        "print(r2_score(lr.predict(x_train2),y_train2))\n",
        "print(mean_squared_error(lr.predict(x_train2),y_train2))"
      ],
      "execution_count": 51,
      "outputs": [
        {
          "output_type": "stream",
          "text": [
            "0.8716336887545482\n",
            "10.432378243286179\n"
          ],
          "name": "stdout"
        }
      ]
    },
    {
      "cell_type": "code",
      "metadata": {
        "colab": {
          "base_uri": "https://localhost:8080/"
        },
        "id": "91A8B3J-I-7T",
        "outputId": "19675d35-9586-43f4-98c7-b18a5cd84dc9"
      },
      "source": [
        "#test for Y1\n",
        "print(r2_score(lr.predict(x_test1),y_test1))\n",
        "print(mean_squared_error(lr.predict(x_test1),y_test1))"
      ],
      "execution_count": 52,
      "outputs": [
        {
          "output_type": "stream",
          "text": [
            "0.8046425577983431\n",
            "15.274425226994033\n"
          ],
          "name": "stdout"
        }
      ]
    },
    {
      "cell_type": "code",
      "metadata": {
        "colab": {
          "base_uri": "https://localhost:8080/"
        },
        "id": "-XlWHT5uJT_X",
        "outputId": "8dbbcb21-8a8f-4d19-9f9d-1b28fad27ac0"
      },
      "source": [
        "#test for Y2\n",
        "print(r2_score(lr.predict(x_test2),y_test2))\n",
        "print(mean_squared_error(lr.predict(x_test2),y_test2))"
      ],
      "execution_count": 54,
      "outputs": [
        {
          "output_type": "stream",
          "text": [
            "0.8805103213938447\n",
            "8.93657506787711\n"
          ],
          "name": "stdout"
        }
      ]
    },
    {
      "cell_type": "code",
      "metadata": {
        "id": "W4HougOGJ6HP"
      },
      "source": [
        "import numpy as np"
      ],
      "execution_count": 57,
      "outputs": []
    },
    {
      "cell_type": "code",
      "metadata": {
        "colab": {
          "base_uri": "https://localhost:8080/"
        },
        "id": "-6rzETaRJXAW",
        "outputId": "db402758-9e20-4d4c-b352-0ee29e494f90"
      },
      "source": [
        "print(\"Y1 prediction test:\",lr.predict(x_test1))"
      ],
      "execution_count": 58,
      "outputs": [
        {
          "output_type": "stream",
          "text": [
            "Y1 prediction test: [16.49020421 19.40304616 29.89544868 31.43809057 31.98235364 19.85452251\n",
            " 34.63939736 36.28013781 33.75081484 31.98180883 20.04470071 34.43290333\n",
            " 30.00739841 34.50090102 18.99771144 31.83777226 32.64812631 19.40890282\n",
            " 29.70581529 29.61072619 16.00289869 14.64296973 32.07689793 12.5729254\n",
            " 17.63458496 17.09387617 33.62309409 35.88139384 36.50294766 25.24179636\n",
            " 19.68831346 30.18695    12.21155734 19.23683711 19.35409869 28.25470823\n",
            " 12.40173554 36.78821496 15.61934476 31.66445469 19.57690854 34.52799243\n",
            " 13.62541458 16.45757256 17.97465639 19.74311759 35.57981072 33.73449901\n",
            " 28.85448258 35.67326832 19.14174801 16.71301405 14.04425929 29.94494096\n",
            " 39.38568459 34.21563372 15.60302894 29.78404376 31.86739445 32.03418448\n",
            " 12.7631036  17.18896527 19.83820669 37.93512234 32.4308567  16.60160913\n",
            " 35.68958415 30.17063417 19.03034309 32.11007438 31.55250496 16.17230526\n",
            " 17.65409831 29.04466078 16.83257802 14.4364757  17.84427651 18.88630652\n",
            " 25.33688546 19.72680176 14.49893316 30.02371423 39.59217862 31.6445846\n",
            " 15.20815339 14.83314793 30.69502715 30.23020826 32.20516348 17.30037019\n",
            " 15.81272049 31.62826878 19.52030774 34.51167661 18.18434794 15.45633324\n",
            " 15.08043264 33.95730886 39.91007757 37.82371742 15.64651144 16.94398294\n",
            " 10.06809068 16.84889384 32.09375856 35.6569525  33.7934022  13.96548601\n",
            " 19.48181944 13.75899198 31.66390988 14.02208681 36.70944168 19.18023632\n",
            " 15.34492831 32.06058211 16.79178733 13.51400966 15.70131556 33.38041415\n",
            " 33.61953982 36.80453078 40.00516667 16.14693526 29.80035958 17.39865682\n",
            " 32.44717252 12.6680145  12.87450853 31.87040391 33.28147002 33.093746\n",
            " 12.58924123 37.95143816 34.1042288  27.96944093 17.39545929 30.07554507\n",
            " 31.90358036 35.52923175 30.08083413 15.90461206 32.47426393 36.39154273\n",
            " 15.24983921 15.69811804 15.12938011 13.38628891 27.74663108 15.50793984\n",
            " 17.26188189 11.17538399 13.72050368 13.92699771 33.6983131  17.56486586\n",
            " 15.32541497 31.44110004 37.42704519 11.10426404 30.29835492 18.01048556\n",
            " 17.53949586 16.68038241 15.30324249 14.42015988 17.99416973 34.9572963\n",
            " 32.68075796 13.29119981 12.65169868 35.54554758 31.75954379 19.59908102\n",
            " 16.01921451 19.93329579 27.82540436 12.92433184 27.52382123 33.90480712\n",
            " 14.98534354 29.92862513 16.69669823  9.78282338 17.31668601 32.54226162\n",
            " 16.13061943 34.7671181  32.1455894  14.32507078 34.06871378 31.79217544\n",
            " 19.94961161 38.15793219 16.22570853 33.68199728 27.63522616 13.74267616\n",
            " 17.61826914 40.02148249 35.76998892 31.5494955  35.7520416  16.80810315\n",
            " 11.36556219 30.10194271 15.37436244 36.19929279 13.64758706 13.73681951\n",
            " 15.56454064 15.73074969 34.18300208 27.32870131 31.74268316 16.24202436\n",
            " 12.79573525 18.95742647 33.47550325 30.2820391  15.56773816 36.7257575\n",
            " 32.58566886 12.85321189 29.57754973 16.96029877 19.71048594 19.50399192\n",
            " 17.20847861 19.42521864 33.49181908]\n"
          ],
          "name": "stdout"
        }
      ]
    },
    {
      "cell_type": "code",
      "metadata": {
        "id": "d_yUvOO2JnKX"
      },
      "source": [
        "Y1_pred=lr.predict(x_test1)"
      ],
      "execution_count": 59,
      "outputs": []
    },
    {
      "cell_type": "code",
      "metadata": {
        "colab": {
          "base_uri": "https://localhost:8080/",
          "height": 292
        },
        "id": "u42J9cZLKCZ9",
        "outputId": "451040d2-9b2a-4eca-82fd-0ff6bdb26925"
      },
      "source": [
        "pd.DataFrame(Y1_pred).describe()"
      ],
      "execution_count": 61,
      "outputs": [
        {
          "output_type": "execute_result",
          "data": {
            "text/html": [
              "<div>\n",
              "<style scoped>\n",
              "    .dataframe tbody tr th:only-of-type {\n",
              "        vertical-align: middle;\n",
              "    }\n",
              "\n",
              "    .dataframe tbody tr th {\n",
              "        vertical-align: top;\n",
              "    }\n",
              "\n",
              "    .dataframe thead th {\n",
              "        text-align: right;\n",
              "    }\n",
              "</style>\n",
              "<table border=\"1\" class=\"dataframe\">\n",
              "  <thead>\n",
              "    <tr style=\"text-align: right;\">\n",
              "      <th></th>\n",
              "      <th>0</th>\n",
              "    </tr>\n",
              "  </thead>\n",
              "  <tbody>\n",
              "    <tr>\n",
              "      <th>count</th>\n",
              "      <td>231.000000</td>\n",
              "    </tr>\n",
              "    <tr>\n",
              "      <th>mean</th>\n",
              "      <td>24.313417</td>\n",
              "    </tr>\n",
              "    <tr>\n",
              "      <th>std</th>\n",
              "      <td>8.861547</td>\n",
              "    </tr>\n",
              "    <tr>\n",
              "      <th>min</th>\n",
              "      <td>9.782823</td>\n",
              "    </tr>\n",
              "    <tr>\n",
              "      <th>25%</th>\n",
              "      <td>16.074917</td>\n",
              "    </tr>\n",
              "    <tr>\n",
              "      <th>50%</th>\n",
              "      <td>19.933296</td>\n",
              "    </tr>\n",
              "    <tr>\n",
              "      <th>75%</th>\n",
              "      <td>32.439015</td>\n",
              "    </tr>\n",
              "    <tr>\n",
              "      <th>max</th>\n",
              "      <td>40.021482</td>\n",
              "    </tr>\n",
              "  </tbody>\n",
              "</table>\n",
              "</div>"
            ],
            "text/plain": [
              "                0\n",
              "count  231.000000\n",
              "mean    24.313417\n",
              "std      8.861547\n",
              "min      9.782823\n",
              "25%     16.074917\n",
              "50%     19.933296\n",
              "75%     32.439015\n",
              "max     40.021482"
            ]
          },
          "metadata": {
            "tags": []
          },
          "execution_count": 61
        }
      ]
    },
    {
      "cell_type": "code",
      "metadata": {
        "colab": {
          "base_uri": "https://localhost:8080/",
          "height": 292
        },
        "id": "Ekps8H4IKG9y",
        "outputId": "bc9d56ab-5754-4a17-e8af-1d37a9f09edb"
      },
      "source": [
        "#Y2 prediction\n",
        "Y2_pred=lr.predict(x_test2)\n",
        "pd.DataFrame(Y2_pred).describe()"
      ],
      "execution_count": 63,
      "outputs": [
        {
          "output_type": "execute_result",
          "data": {
            "text/html": [
              "<div>\n",
              "<style scoped>\n",
              "    .dataframe tbody tr th:only-of-type {\n",
              "        vertical-align: middle;\n",
              "    }\n",
              "\n",
              "    .dataframe tbody tr th {\n",
              "        vertical-align: top;\n",
              "    }\n",
              "\n",
              "    .dataframe thead th {\n",
              "        text-align: right;\n",
              "    }\n",
              "</style>\n",
              "<table border=\"1\" class=\"dataframe\">\n",
              "  <thead>\n",
              "    <tr style=\"text-align: right;\">\n",
              "      <th></th>\n",
              "      <th>0</th>\n",
              "    </tr>\n",
              "  </thead>\n",
              "  <tbody>\n",
              "    <tr>\n",
              "      <th>count</th>\n",
              "      <td>231.000000</td>\n",
              "    </tr>\n",
              "    <tr>\n",
              "      <th>mean</th>\n",
              "      <td>25.309860</td>\n",
              "    </tr>\n",
              "    <tr>\n",
              "      <th>std</th>\n",
              "      <td>8.666873</td>\n",
              "    </tr>\n",
              "    <tr>\n",
              "      <th>min</th>\n",
              "      <td>9.782823</td>\n",
              "    </tr>\n",
              "    <tr>\n",
              "      <th>25%</th>\n",
              "      <td>16.704856</td>\n",
              "    </tr>\n",
              "    <tr>\n",
              "      <th>50%</th>\n",
              "      <td>27.841720</td>\n",
              "    </tr>\n",
              "    <tr>\n",
              "      <th>75%</th>\n",
              "      <td>32.606122</td>\n",
              "    </tr>\n",
              "    <tr>\n",
              "      <th>max</th>\n",
              "      <td>39.910078</td>\n",
              "    </tr>\n",
              "  </tbody>\n",
              "</table>\n",
              "</div>"
            ],
            "text/plain": [
              "                0\n",
              "count  231.000000\n",
              "mean    25.309860\n",
              "std      8.666873\n",
              "min      9.782823\n",
              "25%     16.704856\n",
              "50%     27.841720\n",
              "75%     32.606122\n",
              "max     39.910078"
            ]
          },
          "metadata": {
            "tags": []
          },
          "execution_count": 63
        }
      ]
    },
    {
      "cell_type": "code",
      "metadata": {
        "id": "nQPDr9A7KqAn"
      },
      "source": [
        "pd.DataFrame(Y2_pred).to_csv('Y2_lr_test.csv')\n",
        "pd.DataFrame(Y1_pred).to_csv('Y1_lr_test.csv')"
      ],
      "execution_count": 65,
      "outputs": []
    },
    {
      "cell_type": "markdown",
      "metadata": {
        "id": "PhwB6UNNK8n2"
      },
      "source": [
        "## Polynomial Regression"
      ]
    },
    {
      "cell_type": "code",
      "metadata": {
        "id": "Glmbz-u4K7t8"
      },
      "source": [
        "from sklearn.preprocessing import PolynomialFeatures\n",
        "poly=PolynomialFeatures()"
      ],
      "execution_count": 66,
      "outputs": []
    },
    {
      "cell_type": "code",
      "metadata": {
        "id": "Z7mlrSBJKkUk"
      },
      "source": [
        "p_train1=poly.fit_transform(x_train1)\n",
        "p_train2=poly.fit_transform(x_train2)\n",
        "p_test1=poly.fit_transform(x_test1)\n",
        "p_test2=poly.fit_transform(x_test2)"
      ],
      "execution_count": 68,
      "outputs": []
    },
    {
      "cell_type": "code",
      "metadata": {
        "id": "7JR5TXF0Ms3s"
      },
      "source": [
        "pl=LinearRegression()"
      ],
      "execution_count": 69,
      "outputs": []
    },
    {
      "cell_type": "code",
      "metadata": {
        "colab": {
          "base_uri": "https://localhost:8080/"
        },
        "id": "D5lMrKnyMxgA",
        "outputId": "4b1b3dfc-7925-4cdd-88c0-79620cf34bac"
      },
      "source": [
        "#Y1\n",
        "pl.fit(p_train1,y_train1)"
      ],
      "execution_count": 70,
      "outputs": [
        {
          "output_type": "execute_result",
          "data": {
            "text/plain": [
              "LinearRegression(copy_X=True, fit_intercept=True, n_jobs=None, normalize=False)"
            ]
          },
          "metadata": {
            "tags": []
          },
          "execution_count": 70
        }
      ]
    },
    {
      "cell_type": "code",
      "metadata": {
        "colab": {
          "base_uri": "https://localhost:8080/"
        },
        "id": "G2VVCkwMM2mf",
        "outputId": "ccf810c5-d211-4976-a0c5-87a4e9f5a7d4"
      },
      "source": [
        "print(mean_squared_error(pl.predict(p_train1),y_train1))\n",
        "print(r2_score(pl.predict(p_train1),y_train1))"
      ],
      "execution_count": 71,
      "outputs": [
        {
          "output_type": "stream",
          "text": [
            "0.21475977881395697\n",
            "0.9979024603031569\n"
          ],
          "name": "stdout"
        }
      ]
    },
    {
      "cell_type": "code",
      "metadata": {
        "colab": {
          "base_uri": "https://localhost:8080/"
        },
        "id": "-7J0Tx7TNFEC",
        "outputId": "81d2aa4b-bf0b-4362-bf40-99aa7be8af4e"
      },
      "source": [
        "#test Y1\n",
        "print(mean_squared_error(pl.predict(p_test1),y_test1))\n",
        "print(r2_score(pl.predict(p_test1),y_test1))"
      ],
      "execution_count": 73,
      "outputs": [
        {
          "output_type": "stream",
          "text": [
            "0.25630631428704553\n",
            "0.9974511426731609\n"
          ],
          "name": "stdout"
        }
      ]
    },
    {
      "cell_type": "code",
      "metadata": {
        "colab": {
          "base_uri": "https://localhost:8080/"
        },
        "id": "V34Zd73bNWM-",
        "outputId": "4d492350-c396-4522-e412-d0e8943c3c8a"
      },
      "source": [
        "#for Y2\n",
        "pl.fit(p_train2,y_train2)"
      ],
      "execution_count": 75,
      "outputs": [
        {
          "output_type": "execute_result",
          "data": {
            "text/plain": [
              "LinearRegression(copy_X=True, fit_intercept=True, n_jobs=None, normalize=False)"
            ]
          },
          "metadata": {
            "tags": []
          },
          "execution_count": 75
        }
      ]
    },
    {
      "cell_type": "code",
      "metadata": {
        "colab": {
          "base_uri": "https://localhost:8080/"
        },
        "id": "JV5M00AJNaVU",
        "outputId": "b89d798f-da77-4540-fcf9-6ee88b8f919e"
      },
      "source": [
        "print(mean_squared_error(pl.predict(p_train2),y_train2))\n",
        "print(r2_score(pl.predict(p_train2),y_train2))"
      ],
      "execution_count": 76,
      "outputs": [
        {
          "output_type": "stream",
          "text": [
            "2.4529504631138392\n",
            "0.9725158987699484\n"
          ],
          "name": "stdout"
        }
      ]
    },
    {
      "cell_type": "code",
      "metadata": {
        "colab": {
          "base_uri": "https://localhost:8080/"
        },
        "id": "lX8ujVlyNikZ",
        "outputId": "306fe633-b883-425e-9dc7-c48ed6fa78e2"
      },
      "source": [
        "#test\n",
        "print(mean_squared_error(pl.predict(p_test2),y_test2))\n",
        "print(r2_score(pl.predict(p_test2),y_test2))"
      ],
      "execution_count": 77,
      "outputs": [
        {
          "output_type": "stream",
          "text": [
            "2.5154700159292074\n",
            "0.9699701799504481\n"
          ],
          "name": "stdout"
        }
      ]
    },
    {
      "cell_type": "code",
      "metadata": {
        "id": "ZD8hrO-gNq8Y"
      },
      "source": [
        "pred_y1_poly=pl.predict(p_test1)\n",
        "pred_y2_poly=pl.predict(p_test2)"
      ],
      "execution_count": 80,
      "outputs": []
    },
    {
      "cell_type": "code",
      "metadata": {
        "id": "O-PPRDGmN6gi"
      },
      "source": [
        "pd.DataFrame(pred_y1_poly).to_csv('Y1_poly_test.csv')\n",
        "pd.DataFrame(pred_y2_poly).to_csv('Y2_poly_test.csv')"
      ],
      "execution_count": 81,
      "outputs": []
    },
    {
      "cell_type": "code",
      "metadata": {
        "colab": {
          "base_uri": "https://localhost:8080/"
        },
        "id": "kNZ7x2NOORfB",
        "outputId": "c3ee842d-14f1-4e79-a456-013ee37c4bbd"
      },
      "source": [
        "print(pd.DataFrame(pred_y1_poly))"
      ],
      "execution_count": 82,
      "outputs": [
        {
          "output_type": "stream",
          "text": [
            "             0\n",
            "0    16.008342\n",
            "1    22.917851\n",
            "2    29.608572\n",
            "3    25.847871\n",
            "4    31.137030\n",
            "..         ...\n",
            "226  16.786321\n",
            "227  16.274647\n",
            "228  15.923968\n",
            "229  16.516074\n",
            "230  27.587531\n",
            "\n",
            "[231 rows x 1 columns]\n"
          ],
          "name": "stdout"
        }
      ]
    },
    {
      "cell_type": "code",
      "metadata": {
        "colab": {
          "base_uri": "https://localhost:8080/",
          "height": 292
        },
        "id": "usViFhWpOb-l",
        "outputId": "06e38dd1-09fa-4b89-f55f-0136d764fc2d"
      },
      "source": [
        "pd.DataFrame(pred_y1_poly).describe()"
      ],
      "execution_count": 83,
      "outputs": [
        {
          "output_type": "execute_result",
          "data": {
            "text/html": [
              "<div>\n",
              "<style scoped>\n",
              "    .dataframe tbody tr th:only-of-type {\n",
              "        vertical-align: middle;\n",
              "    }\n",
              "\n",
              "    .dataframe tbody tr th {\n",
              "        vertical-align: top;\n",
              "    }\n",
              "\n",
              "    .dataframe thead th {\n",
              "        text-align: right;\n",
              "    }\n",
              "</style>\n",
              "<table border=\"1\" class=\"dataframe\">\n",
              "  <thead>\n",
              "    <tr style=\"text-align: right;\">\n",
              "      <th></th>\n",
              "      <th>0</th>\n",
              "    </tr>\n",
              "  </thead>\n",
              "  <tbody>\n",
              "    <tr>\n",
              "      <th>count</th>\n",
              "      <td>231.000000</td>\n",
              "    </tr>\n",
              "    <tr>\n",
              "      <th>mean</th>\n",
              "      <td>24.198461</td>\n",
              "    </tr>\n",
              "    <tr>\n",
              "      <th>std</th>\n",
              "      <td>9.271949</td>\n",
              "    </tr>\n",
              "    <tr>\n",
              "      <th>min</th>\n",
              "      <td>11.002523</td>\n",
              "    </tr>\n",
              "    <tr>\n",
              "      <th>25%</th>\n",
              "      <td>15.648767</td>\n",
              "    </tr>\n",
              "    <tr>\n",
              "      <th>50%</th>\n",
              "      <td>21.908657</td>\n",
              "    </tr>\n",
              "    <tr>\n",
              "      <th>75%</th>\n",
              "      <td>31.732730</td>\n",
              "    </tr>\n",
              "    <tr>\n",
              "      <th>max</th>\n",
              "      <td>43.226675</td>\n",
              "    </tr>\n",
              "  </tbody>\n",
              "</table>\n",
              "</div>"
            ],
            "text/plain": [
              "                0\n",
              "count  231.000000\n",
              "mean    24.198461\n",
              "std      9.271949\n",
              "min     11.002523\n",
              "25%     15.648767\n",
              "50%     21.908657\n",
              "75%     31.732730\n",
              "max     43.226675"
            ]
          },
          "metadata": {
            "tags": []
          },
          "execution_count": 83
        }
      ]
    },
    {
      "cell_type": "code",
      "metadata": {
        "colab": {
          "base_uri": "https://localhost:8080/",
          "height": 292
        },
        "id": "Aa1kZiJ_OjV2",
        "outputId": "556daf06-5f30-4b71-f953-73320c749ab5"
      },
      "source": [
        "pd.DataFrame(pred_y2_poly).describe()"
      ],
      "execution_count": 84,
      "outputs": [
        {
          "output_type": "execute_result",
          "data": {
            "text/html": [
              "<div>\n",
              "<style scoped>\n",
              "    .dataframe tbody tr th:only-of-type {\n",
              "        vertical-align: middle;\n",
              "    }\n",
              "\n",
              "    .dataframe tbody tr th {\n",
              "        vertical-align: top;\n",
              "    }\n",
              "\n",
              "    .dataframe thead th {\n",
              "        text-align: right;\n",
              "    }\n",
              "</style>\n",
              "<table border=\"1\" class=\"dataframe\">\n",
              "  <thead>\n",
              "    <tr style=\"text-align: right;\">\n",
              "      <th></th>\n",
              "      <th>0</th>\n",
              "    </tr>\n",
              "  </thead>\n",
              "  <tbody>\n",
              "    <tr>\n",
              "      <th>count</th>\n",
              "      <td>231.000000</td>\n",
              "    </tr>\n",
              "    <tr>\n",
              "      <th>mean</th>\n",
              "      <td>25.222888</td>\n",
              "    </tr>\n",
              "    <tr>\n",
              "      <th>std</th>\n",
              "      <td>9.172237</td>\n",
              "    </tr>\n",
              "    <tr>\n",
              "      <th>min</th>\n",
              "      <td>11.002523</td>\n",
              "    </tr>\n",
              "    <tr>\n",
              "      <th>25%</th>\n",
              "      <td>16.320566</td>\n",
              "    </tr>\n",
              "    <tr>\n",
              "      <th>50%</th>\n",
              "      <td>25.692764</td>\n",
              "    </tr>\n",
              "    <tr>\n",
              "      <th>75%</th>\n",
              "      <td>33.200846</td>\n",
              "    </tr>\n",
              "    <tr>\n",
              "      <th>max</th>\n",
              "      <td>43.103461</td>\n",
              "    </tr>\n",
              "  </tbody>\n",
              "</table>\n",
              "</div>"
            ],
            "text/plain": [
              "                0\n",
              "count  231.000000\n",
              "mean    25.222888\n",
              "std      9.172237\n",
              "min     11.002523\n",
              "25%     16.320566\n",
              "50%     25.692764\n",
              "75%     33.200846\n",
              "max     43.103461"
            ]
          },
          "metadata": {
            "tags": []
          },
          "execution_count": 84
        }
      ]
    },
    {
      "cell_type": "markdown",
      "metadata": {
        "id": "UuvhOe0QO1Y8"
      },
      "source": [
        "## Decision tree\n"
      ]
    },
    {
      "cell_type": "code",
      "metadata": {
        "id": "bZlONLxEO1JY"
      },
      "source": [
        "from sklearn.tree import DecisionTreeRegressor\n",
        "dt=DecisionTreeRegressor(max_depth=6,min_samples_leaf=10)"
      ],
      "execution_count": 91,
      "outputs": []
    },
    {
      "cell_type": "code",
      "metadata": {
        "colab": {
          "base_uri": "https://localhost:8080/"
        },
        "id": "bv0QVTpxOnMm",
        "outputId": "b0dc18bd-fba4-4aea-82a0-790c5ccb0645"
      },
      "source": [
        "#for Y1\n",
        "dt.fit(x_train1,y_train1)"
      ],
      "execution_count": 92,
      "outputs": [
        {
          "output_type": "execute_result",
          "data": {
            "text/plain": [
              "DecisionTreeRegressor(ccp_alpha=0.0, criterion='mse', max_depth=6,\n",
              "                      max_features=None, max_leaf_nodes=None,\n",
              "                      min_impurity_decrease=0.0, min_impurity_split=None,\n",
              "                      min_samples_leaf=10, min_samples_split=2,\n",
              "                      min_weight_fraction_leaf=0.0, presort='deprecated',\n",
              "                      random_state=None, splitter='best')"
            ]
          },
          "metadata": {
            "tags": []
          },
          "execution_count": 92
        }
      ]
    },
    {
      "cell_type": "code",
      "metadata": {
        "colab": {
          "base_uri": "https://localhost:8080/"
        },
        "id": "WiOKQ2g1PEAP",
        "outputId": "d26998b6-006b-477f-a137-6f4072d70572"
      },
      "source": [
        "print(mean_squared_error(dt.predict(x_train1),y_train1))\n",
        "print(r2_score(dt.predict(x_train1),y_train1))"
      ],
      "execution_count": 93,
      "outputs": [
        {
          "output_type": "stream",
          "text": [
            "1.0584007034196807\n",
            "0.9895763492535627\n"
          ],
          "name": "stdout"
        }
      ]
    },
    {
      "cell_type": "code",
      "metadata": {
        "colab": {
          "base_uri": "https://localhost:8080/"
        },
        "id": "FgLYqEzVPSl7",
        "outputId": "4fa5d321-6d23-44b1-c247-f46b38cb461a"
      },
      "source": [
        "#test Y1\n",
        "print(mean_squared_error(dt.predict(x_test1),y_test1))\n",
        "print(r2_score(dt.predict(x_test1),y_test1))"
      ],
      "execution_count": 94,
      "outputs": [
        {
          "output_type": "stream",
          "text": [
            "0.9892516616101337\n",
            "0.9899985899144612\n"
          ],
          "name": "stdout"
        }
      ]
    },
    {
      "cell_type": "code",
      "metadata": {
        "id": "Uw9SDX0gPs8z"
      },
      "source": [
        "pd.DataFrame(dt.predict(x_test1)).to_csv(\"Y1_tree_test.csv\")"
      ],
      "execution_count": 95,
      "outputs": []
    },
    {
      "cell_type": "code",
      "metadata": {
        "colab": {
          "base_uri": "https://localhost:8080/"
        },
        "id": "fqUvs7VkP9m5",
        "outputId": "2fc6b1e0-ac25-4ea9-fdaa-299a20e1d11d"
      },
      "source": [
        "#for y2\n",
        "dt.fit(x_train2,y_train2)"
      ],
      "execution_count": 96,
      "outputs": [
        {
          "output_type": "execute_result",
          "data": {
            "text/plain": [
              "DecisionTreeRegressor(ccp_alpha=0.0, criterion='mse', max_depth=6,\n",
              "                      max_features=None, max_leaf_nodes=None,\n",
              "                      min_impurity_decrease=0.0, min_impurity_split=None,\n",
              "                      min_samples_leaf=10, min_samples_split=2,\n",
              "                      min_weight_fraction_leaf=0.0, presort='deprecated',\n",
              "                      random_state=None, splitter='best')"
            ]
          },
          "metadata": {
            "tags": []
          },
          "execution_count": 96
        }
      ]
    },
    {
      "cell_type": "code",
      "metadata": {
        "colab": {
          "base_uri": "https://localhost:8080/"
        },
        "id": "V6Z46s8PQDGl",
        "outputId": "24b2648b-b536-4838-cae8-a1aa3e09b4c2"
      },
      "source": [
        "print(mean_squared_error(dt.predict(x_train2),y_train2))\n",
        "print(r2_score(dt.predict(x_train2),y_train2))"
      ],
      "execution_count": 97,
      "outputs": [
        {
          "output_type": "stream",
          "text": [
            "2.9776948192713557\n",
            "0.9664390773642156\n"
          ],
          "name": "stdout"
        }
      ]
    },
    {
      "cell_type": "code",
      "metadata": {
        "colab": {
          "base_uri": "https://localhost:8080/"
        },
        "id": "Kvvc7Z7vQLfK",
        "outputId": "936d983b-7c5b-49ea-8544-d62503b855e2"
      },
      "source": [
        "#test\n",
        "print(mean_squared_error(dt.predict(x_test2),y_test2))\n",
        "print(r2_score(dt.predict(x_test2),y_test2))"
      ],
      "execution_count": 98,
      "outputs": [
        {
          "output_type": "stream",
          "text": [
            "3.051891451850865\n",
            "0.9632752928699807\n"
          ],
          "name": "stdout"
        }
      ]
    },
    {
      "cell_type": "code",
      "metadata": {
        "id": "ZivEXrDXQSuo"
      },
      "source": [
        "pd.DataFrame(dt.predict(x_test2)).to_csv(\"Y2_tree_test.csv\")"
      ],
      "execution_count": 99,
      "outputs": []
    },
    {
      "cell_type": "code",
      "metadata": {
        "colab": {
          "base_uri": "https://localhost:8080/",
          "height": 292
        },
        "id": "3kyIK_2fQcrt",
        "outputId": "2aef29a8-fc5d-4e8f-d135-68a1e6db76dd"
      },
      "source": [
        "pd.DataFrame(dt.predict(x_test2)).describe()"
      ],
      "execution_count": 100,
      "outputs": [
        {
          "output_type": "execute_result",
          "data": {
            "text/html": [
              "<div>\n",
              "<style scoped>\n",
              "    .dataframe tbody tr th:only-of-type {\n",
              "        vertical-align: middle;\n",
              "    }\n",
              "\n",
              "    .dataframe tbody tr th {\n",
              "        vertical-align: top;\n",
              "    }\n",
              "\n",
              "    .dataframe thead th {\n",
              "        text-align: right;\n",
              "    }\n",
              "</style>\n",
              "<table border=\"1\" class=\"dataframe\">\n",
              "  <thead>\n",
              "    <tr style=\"text-align: right;\">\n",
              "      <th></th>\n",
              "      <th>0</th>\n",
              "    </tr>\n",
              "  </thead>\n",
              "  <tbody>\n",
              "    <tr>\n",
              "      <th>count</th>\n",
              "      <td>231.000000</td>\n",
              "    </tr>\n",
              "    <tr>\n",
              "      <th>mean</th>\n",
              "      <td>25.258814</td>\n",
              "    </tr>\n",
              "    <tr>\n",
              "      <th>std</th>\n",
              "      <td>9.135818</td>\n",
              "    </tr>\n",
              "    <tr>\n",
              "      <th>min</th>\n",
              "      <td>11.720769</td>\n",
              "    </tr>\n",
              "    <tr>\n",
              "      <th>25%</th>\n",
              "      <td>16.104062</td>\n",
              "    </tr>\n",
              "    <tr>\n",
              "      <th>50%</th>\n",
              "      <td>26.275625</td>\n",
              "    </tr>\n",
              "    <tr>\n",
              "      <th>75%</th>\n",
              "      <td>33.212692</td>\n",
              "    </tr>\n",
              "    <tr>\n",
              "      <th>max</th>\n",
              "      <td>42.515333</td>\n",
              "    </tr>\n",
              "  </tbody>\n",
              "</table>\n",
              "</div>"
            ],
            "text/plain": [
              "                0\n",
              "count  231.000000\n",
              "mean    25.258814\n",
              "std      9.135818\n",
              "min     11.720769\n",
              "25%     16.104062\n",
              "50%     26.275625\n",
              "75%     33.212692\n",
              "max     42.515333"
            ]
          },
          "metadata": {
            "tags": []
          },
          "execution_count": 100
        }
      ]
    },
    {
      "cell_type": "markdown",
      "metadata": {
        "id": "TaS-u7FeQwo_"
      },
      "source": [
        "## Random Forest"
      ]
    },
    {
      "cell_type": "code",
      "metadata": {
        "id": "LZN-BvIXQjty"
      },
      "source": [
        "from sklearn.ensemble import RandomForestRegressor\n",
        "rf=RandomForestRegressor()"
      ],
      "execution_count": 101,
      "outputs": []
    },
    {
      "cell_type": "code",
      "metadata": {
        "colab": {
          "base_uri": "https://localhost:8080/"
        },
        "id": "ymuH4uvjQ_Yk",
        "outputId": "0a149154-60f6-4244-db45-c242488233df"
      },
      "source": [
        "#y1\n",
        "rf.fit(x_train1,y_train1)"
      ],
      "execution_count": 102,
      "outputs": [
        {
          "output_type": "execute_result",
          "data": {
            "text/plain": [
              "RandomForestRegressor(bootstrap=True, ccp_alpha=0.0, criterion='mse',\n",
              "                      max_depth=None, max_features='auto', max_leaf_nodes=None,\n",
              "                      max_samples=None, min_impurity_decrease=0.0,\n",
              "                      min_impurity_split=None, min_samples_leaf=1,\n",
              "                      min_samples_split=2, min_weight_fraction_leaf=0.0,\n",
              "                      n_estimators=100, n_jobs=None, oob_score=False,\n",
              "                      random_state=None, verbose=0, warm_start=False)"
            ]
          },
          "metadata": {
            "tags": []
          },
          "execution_count": 102
        }
      ]
    },
    {
      "cell_type": "code",
      "metadata": {
        "colab": {
          "base_uri": "https://localhost:8080/"
        },
        "id": "A_1v3Z42RDVT",
        "outputId": "43ba1aca-9b8a-43f3-b08c-e35b4c1a9ec9"
      },
      "source": [
        "print(mean_squared_error(rf.predict(x_train1),y_train1))\n",
        "print(r2_score(rf.predict(x_train1),y_train1))"
      ],
      "execution_count": 103,
      "outputs": [
        {
          "output_type": "stream",
          "text": [
            "0.04065784855046555\n",
            "0.9996029456322112\n"
          ],
          "name": "stdout"
        }
      ]
    },
    {
      "cell_type": "code",
      "metadata": {
        "colab": {
          "base_uri": "https://localhost:8080/"
        },
        "id": "TglFXD7IRM1X",
        "outputId": "5ad07028-0fe5-48d6-dba1-97a8896bab19"
      },
      "source": [
        "#test y1\n",
        "print(mean_squared_error(rf.predict(x_test1),y_test1))\n",
        "print(r2_score(rf.predict(x_test1),y_test1))"
      ],
      "execution_count": 105,
      "outputs": [
        {
          "output_type": "stream",
          "text": [
            "0.2639495469645005\n",
            "0.9973721612162154\n"
          ],
          "name": "stdout"
        }
      ]
    },
    {
      "cell_type": "code",
      "metadata": {
        "id": "3XFQ6foXRSmn"
      },
      "source": [
        "pd.DataFrame(rf.predict(x_test1)).to_csv(\"Y1_rf_test.csv\")"
      ],
      "execution_count": 106,
      "outputs": []
    },
    {
      "cell_type": "code",
      "metadata": {
        "colab": {
          "base_uri": "https://localhost:8080/"
        },
        "id": "W_MgE6OwRxWi",
        "outputId": "d262aae3-611d-40a0-8b5d-4811086e3d09"
      },
      "source": [
        "#for y2\n",
        "rf.fit(x_train2,y_train2)"
      ],
      "execution_count": 107,
      "outputs": [
        {
          "output_type": "execute_result",
          "data": {
            "text/plain": [
              "RandomForestRegressor(bootstrap=True, ccp_alpha=0.0, criterion='mse',\n",
              "                      max_depth=None, max_features='auto', max_leaf_nodes=None,\n",
              "                      max_samples=None, min_impurity_decrease=0.0,\n",
              "                      min_impurity_split=None, min_samples_leaf=1,\n",
              "                      min_samples_split=2, min_weight_fraction_leaf=0.0,\n",
              "                      n_estimators=100, n_jobs=None, oob_score=False,\n",
              "                      random_state=None, verbose=0, warm_start=False)"
            ]
          },
          "metadata": {
            "tags": []
          },
          "execution_count": 107
        }
      ]
    },
    {
      "cell_type": "code",
      "metadata": {
        "colab": {
          "base_uri": "https://localhost:8080/"
        },
        "id": "2tIzCqBbR1vf",
        "outputId": "8991b34d-9725-45c8-f1cf-a1b48e9b5037"
      },
      "source": [
        "print(mean_squared_error(rf.predict(x_train2),y_train2))\n",
        "print(r2_score(rf.predict(x_train2),y_train2))"
      ],
      "execution_count": 108,
      "outputs": [
        {
          "output_type": "stream",
          "text": [
            "0.5087719785474857\n",
            "0.9943461446724848\n"
          ],
          "name": "stdout"
        }
      ]
    },
    {
      "cell_type": "code",
      "metadata": {
        "colab": {
          "base_uri": "https://localhost:8080/"
        },
        "id": "Gg3R50fuSA-X",
        "outputId": "f7ffe3d9-2c7f-4203-eb3e-0369d98841ef"
      },
      "source": [
        "#test\n",
        "print(mean_squared_error(rf.predict(x_test2),y_test2))\n",
        "print(r2_score(rf.predict(x_test2),y_test2))"
      ],
      "execution_count": 109,
      "outputs": [
        {
          "output_type": "stream",
          "text": [
            "3.5607892094805083\n",
            "0.9573402232976531\n"
          ],
          "name": "stdout"
        }
      ]
    },
    {
      "cell_type": "code",
      "metadata": {
        "id": "x9W53LgSSJm0"
      },
      "source": [
        "pd.DataFrame(rf.predict(x_test2)).to_csv(\"Y2_rf_test.csv\")"
      ],
      "execution_count": 111,
      "outputs": []
    },
    {
      "cell_type": "code",
      "metadata": {
        "colab": {
          "base_uri": "https://localhost:8080/",
          "height": 292
        },
        "id": "1skTNb95SS5K",
        "outputId": "ec7d7695-01c0-4d16-feb4-17b592dc7d59"
      },
      "source": [
        "pd.DataFrame(rf.predict(x_test2)).describe()"
      ],
      "execution_count": 113,
      "outputs": [
        {
          "output_type": "execute_result",
          "data": {
            "text/html": [
              "<div>\n",
              "<style scoped>\n",
              "    .dataframe tbody tr th:only-of-type {\n",
              "        vertical-align: middle;\n",
              "    }\n",
              "\n",
              "    .dataframe tbody tr th {\n",
              "        vertical-align: top;\n",
              "    }\n",
              "\n",
              "    .dataframe thead th {\n",
              "        text-align: right;\n",
              "    }\n",
              "</style>\n",
              "<table border=\"1\" class=\"dataframe\">\n",
              "  <thead>\n",
              "    <tr style=\"text-align: right;\">\n",
              "      <th></th>\n",
              "      <th>0</th>\n",
              "    </tr>\n",
              "  </thead>\n",
              "  <tbody>\n",
              "    <tr>\n",
              "      <th>count</th>\n",
              "      <td>231.000000</td>\n",
              "    </tr>\n",
              "    <tr>\n",
              "      <th>mean</th>\n",
              "      <td>25.269076</td>\n",
              "    </tr>\n",
              "    <tr>\n",
              "      <th>std</th>\n",
              "      <td>9.156003</td>\n",
              "    </tr>\n",
              "    <tr>\n",
              "      <th>min</th>\n",
              "      <td>11.191000</td>\n",
              "    </tr>\n",
              "    <tr>\n",
              "      <th>25%</th>\n",
              "      <td>16.359700</td>\n",
              "    </tr>\n",
              "    <tr>\n",
              "      <th>50%</th>\n",
              "      <td>26.015200</td>\n",
              "    </tr>\n",
              "    <tr>\n",
              "      <th>75%</th>\n",
              "      <td>33.307150</td>\n",
              "    </tr>\n",
              "    <tr>\n",
              "      <th>max</th>\n",
              "      <td>44.437600</td>\n",
              "    </tr>\n",
              "  </tbody>\n",
              "</table>\n",
              "</div>"
            ],
            "text/plain": [
              "                0\n",
              "count  231.000000\n",
              "mean    25.269076\n",
              "std      9.156003\n",
              "min     11.191000\n",
              "25%     16.359700\n",
              "50%     26.015200\n",
              "75%     33.307150\n",
              "max     44.437600"
            ]
          },
          "metadata": {
            "tags": []
          },
          "execution_count": 113
        }
      ]
    },
    {
      "cell_type": "markdown",
      "metadata": {
        "id": "pAqrCi9TSqCT"
      },
      "source": [
        "## SvR"
      ]
    },
    {
      "cell_type": "code",
      "metadata": {
        "id": "HbENDGw4Sj76"
      },
      "source": [
        "from sklearn.svm import SVR\n",
        "svr=SVR(kernel='linear')"
      ],
      "execution_count": 120,
      "outputs": []
    },
    {
      "cell_type": "code",
      "metadata": {
        "colab": {
          "base_uri": "https://localhost:8080/"
        },
        "id": "qN3Qlzp2Sxag",
        "outputId": "a8bad45b-949c-4ae7-bce0-5ffca3b7ab59"
      },
      "source": [
        "#for Y1\n",
        "svr.fit(x_train1,y_train1)"
      ],
      "execution_count": 121,
      "outputs": [
        {
          "output_type": "execute_result",
          "data": {
            "text/plain": [
              "SVR(C=1.0, cache_size=200, coef0=0.0, degree=3, epsilon=0.1, gamma='scale',\n",
              "    kernel='linear', max_iter=-1, shrinking=True, tol=0.001, verbose=False)"
            ]
          },
          "metadata": {
            "tags": []
          },
          "execution_count": 121
        }
      ]
    },
    {
      "cell_type": "code",
      "metadata": {
        "colab": {
          "base_uri": "https://localhost:8080/"
        },
        "id": "S6T2nOEWS5xd",
        "outputId": "310f7979-13b2-419c-fd28-9d5cd7bcf64d"
      },
      "source": [
        "print(mean_squared_error(svr.predict(x_train1),y_train1))\n",
        "print(r2_score(svr.predict(x_train1),y_train1))"
      ],
      "execution_count": 122,
      "outputs": [
        {
          "output_type": "stream",
          "text": [
            "10.27791410702406\n",
            "0.8785015026822143\n"
          ],
          "name": "stdout"
        }
      ]
    },
    {
      "cell_type": "code",
      "metadata": {
        "colab": {
          "base_uri": "https://localhost:8080/"
        },
        "id": "SttVl1KWTB39",
        "outputId": "791e46be-15ba-4f88-fe6b-885aad1ef9e4"
      },
      "source": [
        "#test Y1\n",
        "print(mean_squared_error(svr.predict(x_test1),y_test1))\n",
        "print(r2_score(svr.predict(x_test1),y_test1))"
      ],
      "execution_count": 123,
      "outputs": [
        {
          "output_type": "stream",
          "text": [
            "10.858105106403032\n",
            "0.869489040988404\n"
          ],
          "name": "stdout"
        }
      ]
    },
    {
      "cell_type": "code",
      "metadata": {
        "id": "slz12FQ7TmL_"
      },
      "source": [
        ""
      ],
      "execution_count": null,
      "outputs": []
    }
  ]
}